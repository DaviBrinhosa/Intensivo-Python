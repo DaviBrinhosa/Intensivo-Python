{
 "cells": [
  {
   "cell_type": "code",
   "execution_count": 30,
   "metadata": {},
   "outputs": [
    {
     "name": "stdout",
     "output_type": "stream",
     "text": [
      "Point(x=825, y=348)\n"
     ]
    }
   ],
   "source": [
    "import pyautogui\n",
    "import pyperclip\n",
    "import time\n",
    "\n",
    "pyautogui.PAUSE = 0.9\n",
    "\n",
    "#pyautogui.press(\"win\")\n",
    "#pyautogui.write(\"Firefox\")\n",
    "#pyautogui.press(\"enter\")\n",
    "pyautogui.hotkey(\"ctrl\", \"t\")\n",
    "pyautogui.write(\"google.com.br\")\n",
    "pyautogui.press(\"enter\")\n",
    "time.sleep(2)\n",
    "pyautogui.write(\"linkedin\")\n",
    "pyautogui.press(\"enter\")\n",
    "time.sleep(2)\n",
    "print(pyautogui.position())\n",
    "pyautogui.click(x=350, y=385) #Link do Linkedin #1920p = 350x, 960p = 175x\n",
    "time.sleep(8)\n",
    "pyautogui.hotkey(\"alt\", \"d\")\n",
    "pyautogui.press(\"backspace\")\n",
    "pyautogui.write(\"linkedin.com\")\n",
    "pyautogui.press(\"slash\")\n",
    "pyautogui.press(\"right\")\n",
    "pyautogui.write(\"in\")\n",
    "pyautogui.press(\"slash\")\n",
    "pyautogui.press(\"right\")\n",
    "pyautogui.write(\"sofia-metz-96809b232\")\n",
    "pyautogui.press(\"enter\")\n",
    "time.sleep(10)\n",
    "pyautogui.click(x=500, y=660)#Botao de Mensagem #1920p = 500x, 960p = 250x\n",
    "pyautogui.click(x=1400, y=880) #Botao do chat #1920p = 1400x, 960p = 700x\n",
    "pyautogui.write(\"Congratulations for the Project 01 in Python\")\n",
    "#pyautogui.press(\"ctrl\", \"enter\")"
   ]
  },
  {
   "cell_type": "code",
   "execution_count": null,
   "metadata": {},
   "outputs": [],
   "source": []
  }
 ],
 "metadata": {
  "kernelspec": {
   "display_name": "Python 3 (ipykernel)",
   "language": "python",
   "name": "python3"
  },
  "language_info": {
   "codemirror_mode": {
    "name": "ipython",
    "version": 3
   },
   "file_extension": ".py",
   "mimetype": "text/x-python",
   "name": "python",
   "nbconvert_exporter": "python",
   "pygments_lexer": "ipython3",
   "version": "3.10.6"
  }
 },
 "nbformat": 4,
 "nbformat_minor": 2
}
