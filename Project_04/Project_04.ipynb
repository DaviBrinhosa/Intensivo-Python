{
 "cells": [
  {
   "cell_type": "code",
   "execution_count": null,
   "metadata": {
    "scrolled": true
   },
   "outputs": [],
   "source": [
    "#Step 1: Data extract\n",
    "#Step 2: Data adjustment\n",
    "#Step 3: Data analysis\n",
    "#Step 4: Modeling and algorithm\n",
    "#Step 5: Interpretation of results\n",
    "\n",
    "import pandas as pd \n",
    "import seaborn as sns #pip install seaborn\n",
    "import matplotlib.pyplot as plt #pip install matplotlib\n",
    "from sklearn.model_selection import train_test_split #pip install scikit-learn\n",
    "from sklearn.linear_model import LinearRegression\n",
    "from sklearn.ensemble import RandomForestRegressor\n",
    "from sklearn.metrics import r2_score\n",
    "\n",
    "#Step 1\n",
    "table = pd.read_csv(\"barcos_ref.csv\")\n",
    "\n",
    "#Step 2\n",
    "#display(table.info()) #If has some diffrente points, it's necessary to make the adjustment\n",
    "\n",
    "#Step 3\n",
    "#display(table.corr()[[\"Preco\"]])\n",
    "\n",
    "#optional\n",
    "#Create Graph\n",
    "sns.heatmap(table.corr()[[\"Preco\"]], cmap=\"Blues\", annot=True)\n",
    "#View Graph\n",
    "plt.show()\n",
    "\n",
    "#Step 4\n",
    "y = table[\"Preco\"]\n",
    "x = table.drop(\"Preco\", axis=1)\n",
    "\n",
    "x_train, x_test, y_train, y_test = train_test_split(x, y, test_size=0.3, random_state=1)\n",
    "\n",
    "model_lr = LinearRegression()\n",
    "model_fr = RandomForestRegressor()\n",
    "\n",
    "model_lr.fit(x_train, y_train)\n",
    "model_fr.fit(x_train, y_train)\n",
    "\n",
    "preview_lr = model_lr.predict(x_test)\n",
    "preview_fr = model_fr.predict(x_test)\n",
    "\n",
    "display(r2_score(y_test, preview_lr))\n",
    "display(r2_score(y_test, preview_fr))\n",
    "\n",
    "#Step 5\n",
    "#assistant_table = pd.DataFrame()\n",
    "#assistant_table['y_test'] = y_test\n",
    "#table[\"Preview FR\"] = preview_fr\n",
    "#table[\"Preview LR\"] = preview_lr\n",
    "#sns.lineplot(data=assistant_table)\n",
    "#plt.show()\n",
    "new_table = pd.read_csv(\"novos_barcos.csv\")\n",
    "display(new_table)\n",
    "preview = model_fr.predict(new_table)\n",
    "display(preview)"
   ]
  },
  {
   "cell_type": "code",
   "execution_count": 14,
   "metadata": {},
   "outputs": [],
   "source": [
    "#Test Area"
   ]
  }
 ],
 "metadata": {
  "kernelspec": {
   "display_name": "Python 3 (ipykernel)",
   "language": "python",
   "name": "python3"
  },
  "language_info": {
   "codemirror_mode": {
    "name": "ipython",
    "version": 3
   },
   "file_extension": ".py",
   "mimetype": "text/x-python",
   "name": "python",
   "nbconvert_exporter": "python",
   "pygments_lexer": "ipython3",
   "version": "3.10.6"
  }
 },
 "nbformat": 4,
 "nbformat_minor": 2
}
