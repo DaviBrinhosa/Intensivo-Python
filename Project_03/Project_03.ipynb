{
 "cells": [
  {
   "cell_type": "code",
   "execution_count": 12,
   "metadata": {
    "scrolled": true
   },
   "outputs": [],
   "source": [
    "#Step 1: Access the web browser\n",
    "#Step 2: Import the database\n",
    "#Step 3: For each product in the database, get and update with actual price\n",
    "#Step 4: Decide which product it's a good oportunity for buy\n",
    "#Step 5: Export the database updated\n",
    "\n",
    "#install geckodriver for Firefox (https://www.cyberithub.com/how-to-install-geckodriver-for-selenium-in-linux/)\n",
    "#install chromedriver for Google Chrome\n",
    "\n",
    "from selenium import webdriver\n",
    "from selenium.webdriver.firefox.service import Service\n",
    "from selenium.webdriver.firefox.options import Options\n",
    "from pandas as pd\n",
    "\n",
    "# Webdriver configuration\n",
    "driver_service = Service('/usr/local/bin/geckodriver')\n",
    "driver_service.start()\n",
    "driver = webdriver.Firefox(service=driver_service)\n",
    "\n",
    "# Firefox navegation\n",
    "table = pd.read_excel(\"commodities.xlsx\")\n",
    "\n",
    "driver.get('https://www.melhorcambio.com/milho-hoje')\n",
    "quotation = drive.find_element('xpath', '//*[@id=\"comercial\"]').get_attibute('value')\n",
    "\n",
    "\n"
   ]
  },
  {
   "cell_type": "code",
   "execution_count": 2,
   "metadata": {},
   "outputs": [],
   "source": [
    "#Test Area"
   ]
  }
 ],
 "metadata": {
  "kernelspec": {
   "display_name": "Python 3 (ipykernel)",
   "language": "python",
   "name": "python3"
  },
  "language_info": {
   "codemirror_mode": {
    "name": "ipython",
    "version": 3
   },
   "file_extension": ".py",
   "mimetype": "text/x-python",
   "name": "python",
   "nbconvert_exporter": "python",
   "pygments_lexer": "ipython3",
   "version": "3.10.6"
  }
 },
 "nbformat": 4,
 "nbformat_minor": 2
}
