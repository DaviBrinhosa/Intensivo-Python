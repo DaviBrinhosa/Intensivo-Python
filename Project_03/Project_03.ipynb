{
 "cells": [
  {
   "cell_type": "code",
   "execution_count": null,
   "metadata": {
    "scrolled": true
   },
   "outputs": [],
   "source": [
    "#Step 1: Access the web browser\n",
    "#Step 2: Import the database\n",
    "#Step 3: For each product in the database, get and update with actual price\n",
    "#Step 4: Decide which product it's a good oportunity for buy\n",
    "#Step 5: Export the database updated\n",
    "\n",
    "#install geckodriver for Firefox (https://www.cyberithub.com/how-to-install-geckodriver-for-selenium-in-linux/)\n",
    "#install chromedriver for Google Chrome\n",
    "\n",
    "from selenium import webdriver\n",
    "from selenium.webdriver.firefox.service import Service\n",
    "from selenium.webdriver.firefox.options import Options\n",
    "import pandas as pd\n",
    "import unicodedata as ucd\n",
    "import datetime\n",
    "\n",
    "#Step 1\n",
    "driver_service = Service('/usr/local/bin/geckodriver')\n",
    "driver_service.start()\n",
    "driver = webdriver.Firefox(service=driver_service)\n",
    "\n",
    "#Step 2\n",
    "table = pd.read_excel(\"commodities.xlsx\")\n",
    "\n",
    "#Step 3\n",
    "for row in table.index:\n",
    "    product = table.loc[row, \"Produto\"].lower()\n",
    "    print(product)\n",
    "    \n",
    "    link = f\"https://www.melhorcambio.com/{product}-hoje\"\n",
    "    link = ucd.normalize(\"NFKD\", link).encode(\"ascii\", \"ignore\").decode(\"utf-8\")\n",
    "    print(link)\n",
    "    \n",
    "    driver.get(link)\n",
    "    #.send_keys(\"\") -> write\n",
    "    #.click() -> click\n",
    "    #.get_attribute() -> get data\n",
    "    quotation = quotation = driver.find_element('xpath', '//*[@id=\"comercial\"]').get_attribute('value')\n",
    "    quotation = float(quotation.replace(\".\", \"\").replace(\",\", \".\"))\n",
    "\n",
    "    table.loc[row, \"Preço Atual\"] = quotation\n",
    "\n",
    "#Step 4\n",
    "table[\"Comprar\"] = table[\"Preço Atual\"] < table[\"Preço Ideal\"] \n",
    "\n",
    "#Step 5\n",
    "driver.quit()\n",
    "text_date = str(datetime.datetime.now().strftime('%d_%b_%Y'))\n",
    "\n",
    "table.to_excel(f\"commodities_{text_date}.xlsx\", index=False)"
   ]
  },
  {
   "cell_type": "code",
   "execution_count": 2,
   "metadata": {},
   "outputs": [],
   "source": [
    "#Test Area"
   ]
  }
 ],
 "metadata": {
  "kernelspec": {
   "display_name": "Python 3 (ipykernel)",
   "language": "python",
   "name": "python3"
  },
  "language_info": {
   "codemirror_mode": {
    "name": "ipython",
    "version": 3
   },
   "file_extension": ".py",
   "mimetype": "text/x-python",
   "name": "python",
   "nbconvert_exporter": "python",
   "pygments_lexer": "ipython3",
   "version": "3.10.6"
  }
 },
 "nbformat": 4,
 "nbformat_minor": 2
}
