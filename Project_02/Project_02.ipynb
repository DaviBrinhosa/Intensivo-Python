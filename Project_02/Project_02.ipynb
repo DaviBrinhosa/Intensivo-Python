{
 "cells": [
  {
   "cell_type": "code",
   "execution_count": 1,
   "metadata": {},
   "outputs": [],
   "source": [
    "#Step 1: Import database\n",
    "#Step 2: View the database\n",
    "#Step 3: Handle the data - Incorrect format | Empty data\n",
    "#Step 4: Initial analysis - Understand the client's note\n",
    "#Step 5: Complete analysis - Find the ideal client profile\n",
    "\n",
    "import pandas as pd\n",
    "import pyautogui\n",
    "import pyperclip\n",
    "import datetime\n",
    "import time\n",
    "\n",
    "#Step 1: \n",
    "tabela = pd.read_csv(\"clientes.csv\", encoding=\"latina\", sep=\";\")\n",
    "\n",
    "#Step 2: \n",
    "#display(tabela)\n",
    "\n",
    "#Step 3: \n",
    "tabela = tabela.drop(\"Unnamed: 8\", axis=1) #axis=0 (Line) | axis=1 (Column)\n",
    "#display(tabela)\n",
    "#display(tabela.info())\n",
    "tabela[\"Salário Anual (R$)\"] = pd.to_numeric(tabela[\"Salário Anual (R$)\"], errors=\"coerce\")\n",
    "tabela = tabela.dropna()\n",
    "\n",
    "#display(tabela)"
   ]
  },
  {
   "cell_type": "code",
   "execution_count": null,
   "metadata": {},
   "outputs": [],
   "source": [
    "#Test Area"
   ]
  }
 ],
 "metadata": {
  "kernelspec": {
   "display_name": "Python 3 (ipykernel)",
   "language": "python",
   "name": "python3"
  },
  "language_info": {
   "codemirror_mode": {
    "name": "ipython",
    "version": 3
   },
   "file_extension": ".py",
   "mimetype": "text/x-python",
   "name": "python",
   "nbconvert_exporter": "python",
   "pygments_lexer": "ipython3",
   "version": "3.10.6"
  }
 },
 "nbformat": 4,
 "nbformat_minor": 2
}
