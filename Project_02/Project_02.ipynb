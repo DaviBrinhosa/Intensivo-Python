{
 "cells": [
  {
   "cell_type": "code",
   "execution_count": null,
   "metadata": {},
   "outputs": [],
   "source": [
    "#Step 1: Import database\n",
    "#Step 2: View the database\n",
    "#Step 3: Handle the data - Incorrect format | Empty data\n",
    "#Step 4: Initial analysis - Understand the client's note\n",
    "#Step 5: Complete analysis - Find the ideal client profile\n",
    "\n",
    "import pandas as pd\n",
    "import plotly.express as px #!pip install plotly\n",
    "import pyautogui\n",
    "import pyperclip\n",
    "import datetime\n",
    "import time\n",
    "\n",
    "#Step 1: \n",
    "table = pd.read_csv(\"client.csv\", encoding=\"latin\", sep=\";\")\n",
    "\n",
    "#Step 2: \n",
    "#display(tabela)\n",
    "\n",
    "#Step 3: \n",
    "table = table.drop(\"Unnamed: 8\", axis=1) #axis=0 (Row) | axis=1 (Column)\n",
    "#display(table)\n",
    "#display(table.info())\n",
    "table[\"Salário Anual (R$)\"] = pd.to_numeric(table[\"Salário Anual (R$)\"], errors=\"coerce\")\n",
    "table = table.dropna()\n",
    "\n",
    "#Step 4: \n",
    "#display(table.describe())\n",
    "\n",
    "#Step 5: \n",
    "#Create Graph\n",
    "row = \"Nota (1-100)\"\n",
    "#column = \"Salário Anual (R$)\"\n",
    "for column in table.columns:\n",
    "    if column != \"Nota (1-100)\":\n",
    "        graph = px.histogram(table, x=column, y=row, histfunc=\"avg\", text_auto=True, nbins=10)\n",
    "        graph.show()\n",
    "\n",
    "#View Graph\n",
    "#Do an analysis and decide which parameters define the ideal client profile"
   ]
  },
  {
   "cell_type": "code",
   "execution_count": 2,
   "metadata": {},
   "outputs": [],
   "source": [
    "#Test Area"
   ]
  }
 ],
 "metadata": {
  "kernelspec": {
   "display_name": "Python 3 (ipykernel)",
   "language": "python",
   "name": "python3"
  },
  "language_info": {
   "codemirror_mode": {
    "name": "ipython",
    "version": 3
   },
   "file_extension": ".py",
   "mimetype": "text/x-python",
   "name": "python",
   "nbconvert_exporter": "python",
   "pygments_lexer": "ipython3",
   "version": "3.10.6"
  }
 },
 "nbformat": 4,
 "nbformat_minor": 2
}
