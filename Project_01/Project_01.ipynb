{
 "cells": [
  {
   "cell_type": "code",
   "execution_count": null,
   "metadata": {},
   "outputs": [],
   "source": [
    "#Step 1: Open the web browser\n",
    "#Step 2: Go to the Linkedin\n",
    "#Step 3: Change the URl to an user\n",
    "#Step 4: Import the csv text\n",
    "#Step 5: Write the text\n",
    "\n",
    "#!pip install openpyxl\n",
    "#!pip install numpy\n",
    "import pandas as pd #!pip install pandas\n",
    "import pyautogui #!pip install pyautogui\n",
    "import pyperclip\n",
    "import datetime\n",
    "import time\n",
    "\n",
    "pyautogui.PAUSE = 0.9\n",
    "\n",
    "#Step 1:\n",
    "import os\n",
    "os.system(\"xdg-open \\\"\\\"https://www.google.com.br/\")\n",
    "\n",
    "#OR\n",
    "#import webbrowser  \n",
    "#webbrowser.open(\"https://www.google.com.br/\", new=0, autoraise=True)\n",
    "\n",
    "#Step 2:\n",
    "time.sleep(2)\n",
    "pyautogui.write(\"linkedin\")\n",
    "pyautogui.press(\"enter\")\n",
    "time.sleep(2)\n",
    "print(pyautogui.position())\n",
    "pyautogui.click(x=350, y=385) #Link do Linkedin #1920p = 350x, 960p = 175x\n",
    "time.sleep(8)\n",
    "\n",
    "#Step 3:\n",
    "pyautogui.hotkey(\"alt\", \"d\")\n",
    "pyautogui.press(\"backspace\")\n",
    "pyautogui.write(\"linkedin.com\")\n",
    "pyautogui.press(\"slash\")\n",
    "pyautogui.press(\"right\")\n",
    "pyautogui.write(\"in\")\n",
    "pyautogui.press(\"slash\")\n",
    "pyautogui.press(\"right\")\n",
    "pyautogui.write(\"davibrinhosa\")\n",
    "pyautogui.press(\"enter\")\n",
    "time.sleep(10)\n",
    "pyautogui.click(x=500, y=660)#Botao de Mensagem #1920p = 500x, 960p = 250x\n",
    "pyautogui.click(x=1400, y=880) #Botao do chat #1920p = 1400x, 960p = 700x\n",
    "time.sleep(2)\n",
    "\n",
    "#Step 4:\n",
    "tabela = pd.read_csv(r\"/home/whitepaladin-linux/Documents/GitHub/IntesivoPython/Project_01/csv_for_python.csv\") #, sep=\";\" -> separation example\n",
    "text01 = tabela.iloc[0, 0]\n",
    "text02 = tabela.iloc[0, 1]\n",
    "joke_text = tabela[\"Part_03\"].sum()\n",
    "text_date = str(datetime.datetime.now().strftime('%d-%b-%Y'))\n",
    "complement_text = f\"\"\"\n",
    "So, we finish the Project 01 in the date {text_date}.\n",
    "\"\"\"\n",
    "complete_text = str(text01) + str(text02) + str(joke_text) + str(complement_text)\n",
    "time.sleep(2)\n",
    "\n",
    "#Step 5:\n",
    "pyperclip.copy(complete_text)\n",
    "pyautogui.hotkey(\"ctrl\",\"v\")\n",
    "#pyautogui.hotkey(\"ctrl\", \"enter\")"
   ]
  },
  {
   "cell_type": "code",
   "execution_count": 9,
   "metadata": {},
   "outputs": [],
   "source": [
    "#Test Area"
   ]
  }
 ],
 "metadata": {
  "kernelspec": {
   "display_name": "Python 3 (ipykernel)",
   "language": "python",
   "name": "python3"
  },
  "language_info": {
   "codemirror_mode": {
    "name": "ipython",
    "version": 3
   },
   "file_extension": ".py",
   "mimetype": "text/x-python",
   "name": "python",
   "nbconvert_exporter": "python",
   "pygments_lexer": "ipython3",
   "version": "3.10.6"
  }
 },
 "nbformat": 4,
 "nbformat_minor": 2
}
